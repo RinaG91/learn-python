{
 "cells": [
  {
   "cell_type": "markdown",
   "metadata": {},
   "source": [
    "# For more exercizes on loops, see this link:\n",
    "* [Python conditional statements and loops [44 exercises with solution]](bit.ly/aviad-python-loops)\n"
   ]
  },
  {
   "cell_type": "markdown",
   "metadata": {},
   "source": [
    "# if/elif/else - checking a password\n",
    "\n",
    "1. use the input() function to take a password from the user\n",
    "   <br><br>\n",
    "   \n",
    "1. check that the password is \"good\" according to the following criterions:\n",
    "   1. the password length must be at least 4\n",
    "   1. the password length must be no more than 12\n",
    "   1. the password must not be just numbers\n",
    "   1. the password must have both lowercase and uppercase letters\n",
    "   <br><br>\n",
    "   \n",
    "1. if the password is good, print \"excellent password\". \n",
    "   otherwise, print the reason why the password was rejected\n",
    "   <br><br>\n",
    "   \n",
    "HINTS:\n",
    "* use the `len()`, `.isdigit()`, `.isupper()`, `.islower()` functions\n"
   ]
  },
  {
   "cell_type": "code",
   "execution_count": null,
   "metadata": {},
   "outputs": [],
   "source": []
  },
  {
   "cell_type": "markdown",
   "metadata": {},
   "source": [
    "# While loop - until we find a good password\n",
    "\n",
    "1. copy the password testing code you wrote above\n",
    "   <br> <br>\n",
    "   \n",
    "1. now use a while loop to continue asking for a new password\n",
    "   until a password that passes all the tests is given"
   ]
  },
  {
   "cell_type": "code",
   "execution_count": null,
   "metadata": {},
   "outputs": [],
   "source": []
  },
  {
   "cell_type": "markdown",
   "metadata": {},
   "source": [
    "# While loop - password with maximum 3 attemps \n",
    "\n",
    "1. copy your answer for the while loop above\n",
    "   <br><br>\n",
    "   \n",
    "1. now modify the code such that no more than 3 attemps are possible\n",
    "   after 3 failed attemps, the program should say \"too many attemps, access denied\"\n",
    "   <br><br>\n"
   ]
  },
  {
   "cell_type": "code",
   "execution_count": null,
   "metadata": {},
   "outputs": [],
   "source": []
  },
  {
   "cell_type": "markdown",
   "metadata": {},
   "source": [
    "# while loop - numbers 0-100 divisible by 7\n",
    "\n",
    "using a while loop, print all the numbers between 0 and 100 \n",
    "that are divisible by 7\n",
    "\n",
    "> **we say that x is divisible by 7 when `x%7 == 0`**\n"
   ]
  },
  {
   "cell_type": "code",
   "execution_count": null,
   "metadata": {},
   "outputs": [],
   "source": []
  },
  {
   "cell_type": "markdown",
   "metadata": {},
   "source": [
    "# for loop -  numbers 0-100 divisible by 7\n",
    "\n",
    "> **Just like the question above, this time with a `for` loop**\n",
    "\n",
    "print all the numbers between 0 and 100 that are divisible by 7\n",
    "using a `for` loop and `range(100)`\n"
   ]
  },
  {
   "cell_type": "code",
   "execution_count": null,
   "metadata": {},
   "outputs": [],
   "source": []
  },
  {
   "cell_type": "markdown",
   "metadata": {},
   "source": [
    "# While loop - multiplication matrix\n",
    "\n",
    "> multiplication matrix = לוח הכפל\n",
    "\n",
    "using while loop(s), print the multiplication matrix\n",
    "in the following way (total of 100 lines)\n",
    "\n",
    "      1 x 1 = 1\n",
    "      1 x 2 = 2\n",
    "      ...\n",
    "      1 x 10 = 10\n",
    "      2 x 1 = 1\n",
    "      2 x 2 = 2\n",
    "      ...\n",
    "      2 x 10 = 20\n",
    "      ...\n",
    "      ...\n",
    "      10 x 1 = 10\n",
    "      10 x 2 = 20\n",
    "      ...\n",
    "      10 x 10 = 100"
   ]
  },
  {
   "cell_type": "code",
   "execution_count": null,
   "metadata": {
    "scrolled": false
   },
   "outputs": [],
   "source": []
  },
  {
   "cell_type": "markdown",
   "metadata": {},
   "source": [
    "# for loop - multiplication matrix\n",
    "\n",
    "> multiplication matrix = לוח הכפל\n",
    "\n",
    "this time, use `for` loop(s) and `range` to print the multiplication matrix\n",
    "in the following way (total of 100 lines)\n",
    "\n",
    "      1 x 1 = 1\n",
    "      1 x 2 = 2\n",
    "      ...\n",
    "      1 x 10 = 10\n",
    "      2 x 1 = 1\n",
    "      2 x 2 = 2\n",
    "      ...\n",
    "      2 x 10 = 20\n",
    "      ...\n",
    "      ...\n",
    "      10 x 1 = 10\n",
    "      10 x 2 = 20\n",
    "      ...\n",
    "      10 x 10 = 100"
   ]
  },
  {
   "cell_type": "code",
   "execution_count": null,
   "metadata": {},
   "outputs": [],
   "source": []
  },
  {
   "cell_type": "markdown",
   "metadata": {},
   "source": [
    "# for loop - multiplication matrix with nice formatting\n",
    "\n",
    "1. copy your _for loop multiplication matrix_ solution  above \n",
    "   <br><br>\n",
    "   \n",
    "2. modify the solution so that it actually prints the multiplication table in table form <br>\n",
    "      hint: \n",
    "        >> print(1,2,3, end=\"\\t\")\n",
    "        >> print(4,5,6)\n",
    "        1 2 3    4 5 6\n",
    "\n",
    "expected output:\n",
    "\n",
    "     1    2     3     4     5     6     7     8     9     10    \n",
    "     2    4     6     8     10    12    14    16    18    20    \n",
    "     3    6     9     12    15    18    21    24    27    30    \n",
    "     4    8     12    16    20    24    28    32    36    40    \n",
    "     5    10    15    20    25    30    35    40    45    50    \n",
    "     6    12    18    24    30    36    42    48    54    60    \n",
    "     7    14    21    28    35    42    49    56    63    70    \n",
    "     8    16    24    32    40    48    56    64    72    80    \n",
    "     9    18    27    36    45    54    63    72    81    90    \n",
    "     10   20    30    40    50    60    70    80    90    100    \n"
   ]
  },
  {
   "cell_type": "code",
   "execution_count": null,
   "metadata": {},
   "outputs": [],
   "source": []
  },
  {
   "cell_type": "markdown",
   "metadata": {},
   "source": [
    "# loop to find long words\n",
    "\n",
    "print all the words in the following sentence that are longer than 4 characters:\n",
    "   \n",
    "    \"The quick brown fox jumped over the lazy dog\"\n",
    "   \n",
    "expected output:\n",
    "   \n",
    "    quick\n",
    "    brown\n",
    "    jumped"
   ]
  },
  {
   "cell_type": "code",
   "execution_count": null,
   "metadata": {},
   "outputs": [],
   "source": []
  },
  {
   "cell_type": "markdown",
   "metadata": {},
   "source": [
    "# squares\n",
    "\n",
    "here's a square made of the `'*'` character with length 5\n",
    "\n",
    "    *****\n",
    "    *****\n",
    "    *****\n",
    "    *****\n",
    "    *****\n",
    "\n",
    "1. use the input() function to take a number from the user\n",
    "   ```\n",
    "   num = int(input('how big? '))\n",
    "   ```\n",
    "   \n",
    "1. can you use for loop(s) to print such a square of length `num`?\n",
    "\n",
    "hints: \n",
    "* use `print('*', end=\"\")` to print a single `'*'` character\n",
    "* you need more than one for loop"
   ]
  },
  {
   "cell_type": "code",
   "execution_count": null,
   "metadata": {},
   "outputs": [],
   "source": []
  },
  {
   "cell_type": "markdown",
   "metadata": {},
   "source": [
    "# triangles\n",
    "here's a triangle made of the `'*'` character with length 5\n",
    "   \n",
    "     *\n",
    "     **\n",
    "     ***\n",
    "     ****\n",
    "     *****\n",
    "\n",
    "can you use for loop(s) to print such a triangle of length 10?\n"
   ]
  },
  {
   "cell_type": "code",
   "execution_count": null,
   "metadata": {},
   "outputs": [],
   "source": []
  },
  {
   "cell_type": "markdown",
   "metadata": {},
   "source": [
    "# enumerate\n",
    "1. split the string \"the quick brown fox jumped over the lazy dog\" into words\n",
    "  using the .split() function, and put the list in the variable 'words'\n",
    "  <br><br>\n",
    "\n",
    "1. use the enumerate() function to print each word on its own line, \n",
    "   along with the index of the word in the 'words' variable\n",
    "   <br><br>\n",
    "   \n",
    "       0 the\n",
    "       1 quick\n",
    "       2 brown\n",
    "       3 fox\n",
    "       4 jumped\n",
    "       5 over\n",
    "       6 the\n",
    "       7 lazy\n",
    "       8 dog\n",
    "\n",
    "3. (harder) replace words that are longer than 4 characters to the string \"too long\"\n",
    "   use enumerate() to do this with minimum number of code lines \n",
    "\n",
    "       ['the', 'too long', 'too long', 'fox', 'too long', 'over', 'the', 'lazy', 'dog'] \n"
   ]
  },
  {
   "cell_type": "code",
   "execution_count": null,
   "metadata": {},
   "outputs": [],
   "source": []
  },
  {
   "cell_type": "code",
   "execution_count": null,
   "metadata": {},
   "outputs": [],
   "source": []
  }
 ],
 "metadata": {
  "kernelspec": {
   "display_name": "Python 3",
   "language": "python",
   "name": "python3"
  },
  "language_info": {
   "codemirror_mode": {
    "name": "ipython",
    "version": 3
   },
   "file_extension": ".py",
   "mimetype": "text/x-python",
   "name": "python",
   "nbconvert_exporter": "python",
   "pygments_lexer": "ipython3",
   "version": "3.6.7"
  }
 },
 "nbformat": 4,
 "nbformat_minor": 2
}
